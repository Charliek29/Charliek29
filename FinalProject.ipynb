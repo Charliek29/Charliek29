{
 "cells": [
  {
   "cell_type": "markdown",
   "id": "ea92d537",
   "metadata": {},
   "source": [
    "# Boston Crime Analysis & Map Visualizations\n",
    "## Developed by Charles Karafotias\n",
    "### CMSC320-0101: Introduction To Data Science Final Project"
   ]
  },
  {
   "cell_type": "markdown",
   "id": "7f961b5f",
   "metadata": {},
   "source": [
    "# Introduction\n",
    "Crime has always been an issue in the United States of America. Whether it be gun violence, trespassing offenses, or more serious felony offenses, crime rates are a major consideration in choosing where to live and when citizens deem it safe to exit the safety of their homes. In the United States overall, crime rates have been on the decline according to Pew Research Center (read more [here](https://www.pewresearch.org/fact-tank/2020/11/20/facts-about-crime-in-the-u-s/)) yet \"Americans tend to believe crime is up\" even with the extensive research that has been done into this topic (Gramlich). With the changing times since the publication of the previously mentioned article and the ongoing effects of the COVID-19 pandemic, I am interested in analyzing the affects of crime rates that currently exist in a major city of the United States. \n",
    "\n",
    "Of the many crime datasets that are available to the public, I am particularly interested in analyzing the city of Boston, Massachusetts crime rates and finding out if there are patterns in the types of crimes that exist in different neighborhoods of the city. Provided by the city of Boston, the **Crime Incident Reports (August 2015 - To Date) (Source: New System)** dataset located [here](https://data.boston.gov/dataset/crime-incident-reports-august-2015-to-date-source-new-system) provides a plethora of data for analysis. I specifically chose to analyze the crime in the city of Boston as there is 44 higher level institutions in the metropolitan area alone and many others around the city (more information [here](https://en.wikipedia.org/wiki/List_of_colleges_and_universities_in_metropolitan_Boston)). With all of the student population coming and going during the college semesters, I pose the following questions that this project will aim to answer:\n",
    "1.  Does the crime rate increase during the college semesters (Fall and Spring semesters)?\n",
    "2.  What are the most popular crimes during the college semesters in the most populated college neighborhoods?\n",
    "3.  How does the crime rate differ between the work week and the weekend during the college semester?\n",
    "4.  During college breaks, does the city of Boston experience different frequencies of common crimes?\n",
    "5.  How do different neighborhoods crime frequency compare?\n",
    "\n",
    "In order to answer the above questions, I walk through the data science pipeline. This consists of data collection, data processing, exploratory analysis and data visualizations, analysis & hypothesis testing, and decision making based off the results. Each section is walked through below.\n",
    "\n",
    "## Requirements For Code\n",
    "The language selected for this project is Python. With Python, the above questions can be answered using the pipeline provided. I elected to use Python as there are many additional libraries (listed below) that provide valuable tools for data science. I have provided a list of the libraries that have been used throughout the project and links to the accompanying API for further reading. \n",
    "1. [Numpy](https://numpy.org/doc/stable/reference/)\n",
    "2. [Pandas](https://pandas.pydata.org/docs/reference/index.html)\n",
    "3. [Beautiful Soup](https://beautiful-soup-4.readthedocs.io/en/latest/#)\n",
    "4. [os](https://docs.python.org/3/library/os.html)\n",
    "5. [requests](https://docs.python-requests.org/en/latest/)\n",
    "6. [shutil](https://docs.python.org/3/library/shutil.html#module-shutil)"
   ]
  },
  {
   "cell_type": "markdown",
   "id": "d1df2170",
   "metadata": {},
   "source": [
    "# Data Collection\n",
    "The first step of the data science pipeline is to collect the data. In this process, the datasets that are needed for the project are downloaded or gatherered from their respective sources. For this process, I have developed a script that will organize the data into the proper format if the data is available from the Boston city website. This will ensure that there is always updated data, as the dataset is being updated every year. \n",
    "\n",
    "The script below begins by importing the required libraries and modules. These are requests, os, shutil, and BeautifulSoup. The requests and BeautifulSoup libraries are needed in order to access the Boston crime dataset website and the BeautifulSoup library is used in order to parse the content that is returned by the requests library get call. The os and shutil modules were used to make simple calls such as making a directory and removing old directories. \n",
    "\n",
    "Following import calls, the script has the following flow:\n",
    "1. Declaration of a request object where the get() function is called with the url to the Boston crime data.\n",
    "2. If the website returns a 200 code, meaning that the website is up, then it is safe to interact with the webpage. If the response is not 200, then the script looks for old data. This would be located at './Data'. If this exists, this data is used. If both do not exist, the the program errors out and informs the user promptly.\n",
    "3. When 200 code is returned, a BeautifulSoup object is instantiated and is set to read the html that is returned from the requests. From here, the script finds all links that are stored with the class id 'btn btn-primary'. This class contains all of the links to the .csv and .xlsx files that will need to be downloaded for analysis in the project later on. \n",
    "4. Once the links are found, they are stored in a list called links. Following this, if the old folder called 'Data' still exists, this is replaced with a new 'Data' folder. If the folder doesn't exist, then the new folder is created. Then, the csv files are downloaded and stored in the 'Data' folder that was created with the proper naming. The scheme for the naming is c1, c2, ... representing 'crime' and the 'link number'. "
   ]
  },
  {
   "cell_type": "code",
   "execution_count": 1,
   "id": "a730a7c6",
   "metadata": {},
   "outputs": [],
   "source": [
    "# Import the needed libraries for this section. This allows for obtaining the HTML and parsing the HTML code\n",
    "import requests\n",
    "from bs4 import BeautifulSoup \n",
    "import os\n",
    "import shutil\n",
    "\n",
    "r = requests.get('https://data.boston.gov/dataset/crime-incident-reports-august-2015-to-date-source-new-system')\n",
    "if r.status_code == 200:\n",
    "    soup = BeautifulSoup(r.content, 'html.parser')\n",
    "    links = []\n",
    "    # Find all href links that contain the class btn btn-primary These are the ones that are downloadable .csv \n",
    "    # files that have the data needed for project\n",
    "    for link in soup(\"a\", \"btn btn-primary\", href=True):\n",
    "        links.append(link['href'])\n",
    "\n",
    "    # Download each of the links, then store in proper place\n",
    "    if 'Data' in os.listdir('.'):\n",
    "        # remove Data folder, make new folder then add in .csv files from online\n",
    "        shutil.rmtree('./Data')\n",
    "    \n",
    "    # make filder then add in .csv files\n",
    "    os.mkdir('./Data')\n",
    "    for index,curr_url in enumerate(links):\n",
    "        r = requests.get(curr_url, allow_redirects=True)\n",
    "        fileExt = curr_url.split('.')[-1]\n",
    "        fileName = f'./Data/c{index+1}.{fileExt}'\n",
    "        open(fileName, 'wb').write(r.content)       \n",
    "elif 'Data' in os.listdir('.'):\n",
    "    # Use this data instead\n",
    "    print('Using old dataset saved. Failed to retrieve updated data from website.')\n",
    "else:\n",
    "    raise Exception('Failed to retrieve data from website and failed to find Data directory in current directory')"
   ]
  },
  {
   "cell_type": "markdown",
   "id": "ece2103f",
   "metadata": {},
   "source": [
    "# Data Parsing & Organization "
   ]
  },
  {
   "cell_type": "markdown",
   "id": "298f90c3",
   "metadata": {},
   "source": [
    "# Exploratory Data Analysis"
   ]
  },
  {
   "cell_type": "markdown",
   "id": "24dcdce9",
   "metadata": {},
   "source": [
    "# Modeling Future Crime"
   ]
  },
  {
   "cell_type": "markdown",
   "id": "2c1e2e95",
   "metadata": {},
   "source": [
    "# Map Visualizations"
   ]
  },
  {
   "cell_type": "code",
   "execution_count": null,
   "id": "844c5d56",
   "metadata": {},
   "outputs": [],
   "source": []
  },
  {
   "cell_type": "markdown",
   "id": "32439518",
   "metadata": {},
   "source": [
    "# References\n",
    "Gramlich, John. “What the Data Says (and Doesn't Say) about Crime in the United States.” Pew Research Center, The Pew \n",
    "Charitable Trusts, 23 Nov. 2020, https://www.pewresearch.org/fact-tank/2020/11/20/facts-about-crime-in-the-u-s/. \n",
    "\n"
   ]
  }
 ],
 "metadata": {
  "kernelspec": {
   "display_name": "Python 3",
   "language": "python",
   "name": "python3"
  },
  "language_info": {
   "codemirror_mode": {
    "name": "ipython",
    "version": 3
   },
   "file_extension": ".py",
   "mimetype": "text/x-python",
   "name": "python",
   "nbconvert_exporter": "python",
   "pygments_lexer": "ipython3",
   "version": "3.8.8"
  }
 },
 "nbformat": 4,
 "nbformat_minor": 5
}
