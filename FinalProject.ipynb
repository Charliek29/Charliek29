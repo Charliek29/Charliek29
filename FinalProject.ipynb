{
 "cells": [
  {
   "cell_type": "markdown",
   "id": "ea92d537",
   "metadata": {},
   "source": [
    "# Boston Crime Analysis & Map Visualizations\n",
    "## Developed by Charles Karafotias\n",
    "### CMSC320-0101: Introduction To Data Science Final Project"
   ]
  },
  {
   "cell_type": "markdown",
   "id": "7f961b5f",
   "metadata": {},
   "source": [
    "# Introduction\n",
    "Crime has always been an issue in the United States of America. Whether it be gun violence, trespassing offenses, or more serious felony offenses, crime rates are a major consideration in choosing where to live and when citizens deem it safe to exit the safety of their homes. In the United States overall, crime rates have been on the decline according to Pew Research Center (read more [here](https://www.pewresearch.org/fact-tank/2020/11/20/facts-about-crime-in-the-u-s/)) yet \"Americans tend to believe crime is up\" even with the extensive research that has been done into this topic (Gramlich). With the changing times since the publication of the previously mentioned article and the ongoing effects of the COVID-19 pandemic, I am interested in analyzing the affects of crime rates that currently exist in a major city of the United States. \n",
    "\n",
    "Of the many crime datasets that are available to the public, I am particularly interested in analyzing the city of Boston, Massachusetts crime rates and finding out if there are patterns in the types of crimes that exist in different neighborhoods of the city. Provided by the city of Boston, the **Crime Incident Reports (August 2015 - To Date) (Source: New System)** dataset located [here](https://data.boston.gov/dataset/crime-incident-reports-august-2015-to-date-source-new-system) provides a plethora of data for analysis. I specifically chose to analyze the crime in the city of Boston as there is 44 higher level institutions in the metropolitan area alone and many others around the city (more information [here](https://en.wikipedia.org/wiki/List_of_colleges_and_universities_in_metropolitan_Boston)). With all of the student population coming and going during the college semesters, I pose the following questions that this project aims to answer:\n",
    "1.  Does the crime rate increase during the college semesters (Fall and Spring semesters)?\n",
    "2.  What are the most popular crimes during the college semesters in the most populated college neighborhoods?\n",
    "3.  How does the crime rate differ between the work week and the weekend during the college semester?\n",
    "4.  During college breaks, does the city of Boston experience different frequencies of common crimes?\n",
    "5.  How do different neighborhoods crime frequency compare?\n",
    "\n",
    "In order to answer the above questions, I walk through the data science pipeline. This consists of data collection, data processing, exploratory analysis and data visualizations, analysis & hypothesis testing, and decision making based off the results. Each section is walked through below.\n",
    "\n",
    "## Requirements For Code\n",
    "The language selected for this project is Python. With Python, the above questions can be answered using the pipeline provided. I elected to use Python as there are many additional libraries (listed below) that provide valuable tools for data science. I have provided a list of the libraries that have been used throughout the project and links to the accompanying API for further reading. \n",
    "1. [Numpy](https://numpy.org/doc/stable/reference/)\n",
    "2. [Pandas](https://pandas.pydata.org/docs/reference/index.html)\n",
    "3. [Beautiful Soup](https://beautiful-soup-4.readthedocs.io/en/latest/#)\n",
    "4. [os](https://docs.python.org/3/library/os.html)\n",
    "5. [requests](https://docs.python-requests.org/en/latest/)\n",
    "6. [shutil](https://docs.python.org/3/library/shutil.html#module-shutil)\n",
    "7. [Matplotlib](https://matplotlib.org/)\n",
    "8. [collections-defaultdict](https://docs.python.org/3/library/collections.html#collections.defaultdict)"
   ]
  },
  {
   "cell_type": "markdown",
   "id": "d1df2170",
   "metadata": {},
   "source": [
    "# Data Collection\n",
    "The first step of the data science pipeline is to collect the data. In this process, the datasets that are needed for the project are downloaded or gatherered from their respective sources. For this process, I have developed a script that will organize the data into the proper format if the data is available from the Boston city website. This will ensure that there is always updated data, as the dataset is being updated every year. \n",
    "\n",
    "The script below begins by importing the required libraries and modules. These are requests, os, shutil, and BeautifulSoup. The requests and BeautifulSoup libraries are needed in order to access the Boston crime dataset website and the BeautifulSoup library is used in order to parse the content that is returned by the requests library get call. The os and shutil modules were used to make simple calls such as making a directory and removing old directories. \n",
    "\n",
    "Following import calls, the script has the following flow:\n",
    "1. Declaration of a request object where the get() function is called with the url to the Boston crime data.\n",
    "2. If the website returns a 200 code, meaning that the website is up, then it is safe to interact with the webpage. If the response is not 200, then the script looks for old data. This would be located at './Data'. If this exists, this data is used. If both do not exist, the the program errors out and informs the user promptly.\n",
    "3. When 200 code is returned, a BeautifulSoup object is instantiated and is set to read the html that is returned from the requests. From here, the script finds all links that are stored with the class id 'btn btn-primary'. This class contains all of the links to the .csv and .xlsx files that will need to be downloaded for analysis in the project later on. \n",
    "4. Once the links are found, they are stored in a list called links. Following this, if the old folder called 'Data' still exists, this is replaced with a new 'Data' folder. If the folder doesn't exist, then the new folder is created. Then, the csv files are downloaded and stored in the 'Data' folder that was created with the proper naming. The scheme for the naming is c1, c2, ... representing 'crime' and the 'link number'. "
   ]
  },
  {
   "cell_type": "code",
   "execution_count": 2,
   "id": "a730a7c6",
   "metadata": {},
   "outputs": [],
   "source": [
    "# Import the needed libraries for this section. This allows for obtaining the HTML and parsing the HTML code\n",
    "import requests\n",
    "from bs4 import BeautifulSoup \n",
    "import os\n",
    "import shutil\n",
    "\n",
    "r = requests.get('https://data.boston.gov/dataset/crime-incident-reports-august-2015-to-date-source-new-system')\n",
    "if r.status_code == 200:\n",
    "    soup = BeautifulSoup(r.content, 'html.parser')\n",
    "    links = []\n",
    "    # Find all href links that contain the class btn btn-primary These are the ones that are downloadable .csv \n",
    "    # files that have the data needed for project\n",
    "    for link in soup(\"a\", \"btn btn-primary\", href=True):\n",
    "        links.append(link['href'])\n",
    "\n",
    "    # Download each of the links, then store in proper place\n",
    "    if 'Data' in os.listdir('.'):\n",
    "        # remove Data folder, make new folder then add in .csv files from online\n",
    "        shutil.rmtree('./Data')\n",
    "    \n",
    "    # make filder then add in .csv files\n",
    "    os.mkdir('./Data')\n",
    "    for index,curr_url in enumerate(links):\n",
    "        r = requests.get(curr_url, allow_redirects=True)\n",
    "        fileExt = curr_url.split('.')[-1]\n",
    "        fileName = f'./Data/c{index+1}.{fileExt}'\n",
    "        open(fileName, 'wb').write(r.content)       \n",
    "elif 'Data' in os.listdir('.'):\n",
    "    # Use this data instead\n",
    "    print('Using old dataset saved. Failed to retrieve updated data from website.')\n",
    "else:\n",
    "    raise Exception('Failed to retrieve data from website and failed to find Data directory in current directory')"
   ]
  },
  {
   "cell_type": "markdown",
   "id": "ece2103f",
   "metadata": {},
   "source": [
    "# Data Parsing & Organization "
   ]
  },
  {
   "cell_type": "markdown",
   "id": "46e01493",
   "metadata": {},
   "source": [
    "The next step in the data science pipeline is to parse the downloaded data from the data collection step and organize it in a way that can be used for the following parts of the pipeline. This important step insures that are data is clean of any mislabeled data or unavailable data and that data between two different .csv files are the same format. \n",
    "\n",
    "For parsing and organizing the data, I elected to use the Pandas library of Python. Use of this library allows the script below to easily read in the downloaded data, format it into Python objects, and combime the data together into one DataFrame object that spans all the years. \n",
    "\n",
    "The script performs the following actions to parse and organize the data:\n",
    "1. First, the necessary libraries were imported. The only new library that has not been used yet that needed importing was Pandas. \n",
    "2. Next, teh script extract just the relative paths of the .csv files. These are the files that contain the crime data for each year that need to be parsed and organized. This is done by adding the paths of files that end in .csv to a list.\n",
    "3. From here, Pandas is used to load in each .csv file as a DataFrame object. These objects are then stored into the list named frames. Since read_csv was used, the script standardizes the types that are expected for each category manually rather than leaving dtype guessing up to Pandas. This ensures that the columns are of the same type throughout each of the DataFrame objects.\n",
    "4. With the DataFrames that were saved into frames, the script concatenates each of the frames together into one large DataFrame object called data. This contains all the crimes over all the years before cleaning has happened.\n",
    "5. The script organizes the data by removing crimes that do not have proper location tags. This is because there exist some entries in the data that only have street names with no corresponding location tag. Further, the data that does not have location tags appear to be a majority of data that was migrated from the old system to the new system, suggesting that for some types of crimes in the past, this data was not kept."
   ]
  },
  {
   "cell_type": "code",
   "execution_count": 3,
   "id": "56526745",
   "metadata": {},
   "outputs": [
    {
     "data": {
      "text/html": [
       "<div>\n",
       "<style scoped>\n",
       "    .dataframe tbody tr th:only-of-type {\n",
       "        vertical-align: middle;\n",
       "    }\n",
       "\n",
       "    .dataframe tbody tr th {\n",
       "        vertical-align: top;\n",
       "    }\n",
       "\n",
       "    .dataframe thead th {\n",
       "        text-align: right;\n",
       "    }\n",
       "</style>\n",
       "<table border=\"1\" class=\"dataframe\">\n",
       "  <thead>\n",
       "    <tr style=\"text-align: right;\">\n",
       "      <th></th>\n",
       "      <th>INCIDENT_NUMBER</th>\n",
       "      <th>OFFENSE_CODE</th>\n",
       "      <th>OFFENSE_CODE_GROUP</th>\n",
       "      <th>OFFENSE_DESCRIPTION</th>\n",
       "      <th>DISTRICT</th>\n",
       "      <th>REPORTING_AREA</th>\n",
       "      <th>SHOOTING</th>\n",
       "      <th>OCCURRED_ON_DATE</th>\n",
       "      <th>YEAR</th>\n",
       "      <th>MONTH</th>\n",
       "      <th>DAY_OF_WEEK</th>\n",
       "      <th>HOUR</th>\n",
       "      <th>UCR_PART</th>\n",
       "      <th>STREET</th>\n",
       "      <th>Lat</th>\n",
       "      <th>Long</th>\n",
       "      <th>Location</th>\n",
       "    </tr>\n",
       "  </thead>\n",
       "  <tbody>\n",
       "    <tr>\n",
       "      <th>5</th>\n",
       "      <td>I192078556</td>\n",
       "      <td>2500</td>\n",
       "      <td>NaN</td>\n",
       "      <td>Migrated Report - Kidnapping</td>\n",
       "      <td>A1</td>\n",
       "      <td></td>\n",
       "      <td>0</td>\n",
       "      <td>2019-09-28 20:49:00</td>\n",
       "      <td>2019</td>\n",
       "      <td>9</td>\n",
       "      <td>Saturday</td>\n",
       "      <td>20</td>\n",
       "      <td>NaN</td>\n",
       "      <td>WASHINGTON ST</td>\n",
       "      <td>42.349973</td>\n",
       "      <td>-71.063488</td>\n",
       "      <td>(42.3499725621905, -71.0634881686036)</td>\n",
       "    </tr>\n",
       "    <tr>\n",
       "      <th>6</th>\n",
       "      <td>I192078556</td>\n",
       "      <td>2511</td>\n",
       "      <td>NaN</td>\n",
       "      <td>KIDNAPPING - ENTICING OR ATTEMPTED</td>\n",
       "      <td>A1</td>\n",
       "      <td>123</td>\n",
       "      <td>0</td>\n",
       "      <td>2019-09-28 20:49:00</td>\n",
       "      <td>2019</td>\n",
       "      <td>9</td>\n",
       "      <td>Saturday</td>\n",
       "      <td>20</td>\n",
       "      <td>NaN</td>\n",
       "      <td>WASHINGTON ST</td>\n",
       "      <td>42.349973</td>\n",
       "      <td>-71.063488</td>\n",
       "      <td>(42.3499725621905, -71.0634881686036)</td>\n",
       "    </tr>\n",
       "    <tr>\n",
       "      <th>11</th>\n",
       "      <td>I192078529</td>\n",
       "      <td>800</td>\n",
       "      <td>NaN</td>\n",
       "      <td>Migrated Report - Assault/Assault &amp; Battery</td>\n",
       "      <td>E5</td>\n",
       "      <td></td>\n",
       "      <td>0</td>\n",
       "      <td>2019-09-27 23:00:00</td>\n",
       "      <td>2019</td>\n",
       "      <td>9</td>\n",
       "      <td>Friday</td>\n",
       "      <td>23</td>\n",
       "      <td>NaN</td>\n",
       "      <td>EDGEMERE RD</td>\n",
       "      <td>42.258676</td>\n",
       "      <td>-71.151165</td>\n",
       "      <td>(42.2586763744759, -71.1511647925742)</td>\n",
       "    </tr>\n",
       "    <tr>\n",
       "      <th>23</th>\n",
       "      <td>I192078509</td>\n",
       "      <td>619</td>\n",
       "      <td>NaN</td>\n",
       "      <td>LARCENY ALL OTHERS</td>\n",
       "      <td>D4</td>\n",
       "      <td>167</td>\n",
       "      <td>0</td>\n",
       "      <td>2019-09-28 18:00:00</td>\n",
       "      <td>2019</td>\n",
       "      <td>9</td>\n",
       "      <td>Saturday</td>\n",
       "      <td>18</td>\n",
       "      <td>NaN</td>\n",
       "      <td>WAREHAM ST</td>\n",
       "      <td>42.339314</td>\n",
       "      <td>-71.067489</td>\n",
       "      <td>(42.3393144890309, -71.0674892597477)</td>\n",
       "    </tr>\n",
       "    <tr>\n",
       "      <th>44</th>\n",
       "      <td>I192078478</td>\n",
       "      <td>724</td>\n",
       "      <td>NaN</td>\n",
       "      <td>AUTO THEFT</td>\n",
       "      <td>A1</td>\n",
       "      <td>111</td>\n",
       "      <td>0</td>\n",
       "      <td>2019-09-27 23:00:00</td>\n",
       "      <td>2019</td>\n",
       "      <td>9</td>\n",
       "      <td>Friday</td>\n",
       "      <td>23</td>\n",
       "      <td>NaN</td>\n",
       "      <td>TREMONT ST</td>\n",
       "      <td>42.354284</td>\n",
       "      <td>-71.063804</td>\n",
       "      <td>(42.3542837724149, -71.0638040374747)</td>\n",
       "    </tr>\n",
       "    <tr>\n",
       "      <th>...</th>\n",
       "      <td>...</td>\n",
       "      <td>...</td>\n",
       "      <td>...</td>\n",
       "      <td>...</td>\n",
       "      <td>...</td>\n",
       "      <td>...</td>\n",
       "      <td>...</td>\n",
       "      <td>...</td>\n",
       "      <td>...</td>\n",
       "      <td>...</td>\n",
       "      <td>...</td>\n",
       "      <td>...</td>\n",
       "      <td>...</td>\n",
       "      <td>...</td>\n",
       "      <td>...</td>\n",
       "      <td>...</td>\n",
       "      <td>...</td>\n",
       "    </tr>\n",
       "    <tr>\n",
       "      <th>53592</th>\n",
       "      <td>I080542626-00</td>\n",
       "      <td>3125</td>\n",
       "      <td>Warrant Arrests</td>\n",
       "      <td>WARRANT ARREST</td>\n",
       "      <td>A1</td>\n",
       "      <td>111</td>\n",
       "      <td>NaN</td>\n",
       "      <td>2015-08-12 12:00:00</td>\n",
       "      <td>2015</td>\n",
       "      <td>8</td>\n",
       "      <td>Wednesday</td>\n",
       "      <td>12</td>\n",
       "      <td>Part Three</td>\n",
       "      <td>BOYLSTON ST</td>\n",
       "      <td>42.352312</td>\n",
       "      <td>-71.063705</td>\n",
       "      <td>(42.35231190, -71.06370510)</td>\n",
       "    </tr>\n",
       "    <tr>\n",
       "      <th>53593</th>\n",
       "      <td>I080542626-00</td>\n",
       "      <td>1848</td>\n",
       "      <td>Drug Violation</td>\n",
       "      <td>DRUGS - POSS CLASS B - INTENT TO MFR DIST DISP</td>\n",
       "      <td>A1</td>\n",
       "      <td>111</td>\n",
       "      <td>NaN</td>\n",
       "      <td>2015-08-12 12:00:00</td>\n",
       "      <td>2015</td>\n",
       "      <td>8</td>\n",
       "      <td>Wednesday</td>\n",
       "      <td>12</td>\n",
       "      <td>Part Two</td>\n",
       "      <td>BOYLSTON ST</td>\n",
       "      <td>42.352312</td>\n",
       "      <td>-71.063705</td>\n",
       "      <td>(42.35231190, -71.06370510)</td>\n",
       "    </tr>\n",
       "    <tr>\n",
       "      <th>53594</th>\n",
       "      <td>I080542626-00</td>\n",
       "      <td>1848</td>\n",
       "      <td>Drug Violation</td>\n",
       "      <td>DRUGS - POSS CLASS B - INTENT TO MFR DIST DISP</td>\n",
       "      <td>A1</td>\n",
       "      <td>111</td>\n",
       "      <td>NaN</td>\n",
       "      <td>2015-08-12 12:00:00</td>\n",
       "      <td>2015</td>\n",
       "      <td>8</td>\n",
       "      <td>Wednesday</td>\n",
       "      <td>12</td>\n",
       "      <td>Part Two</td>\n",
       "      <td>BOYLSTON ST</td>\n",
       "      <td>42.352312</td>\n",
       "      <td>-71.063705</td>\n",
       "      <td>(42.35231190, -71.06370510)</td>\n",
       "    </tr>\n",
       "    <tr>\n",
       "      <th>53595</th>\n",
       "      <td>I030217815-08</td>\n",
       "      <td>3125</td>\n",
       "      <td>Warrant Arrests</td>\n",
       "      <td>WARRANT ARREST</td>\n",
       "      <td>E18</td>\n",
       "      <td>520</td>\n",
       "      <td>NaN</td>\n",
       "      <td>2015-07-09 13:38:00</td>\n",
       "      <td>2015</td>\n",
       "      <td>7</td>\n",
       "      <td>Thursday</td>\n",
       "      <td>13</td>\n",
       "      <td>Part Three</td>\n",
       "      <td>RIVER ST</td>\n",
       "      <td>42.255926</td>\n",
       "      <td>-71.123172</td>\n",
       "      <td>(42.25592648, -71.12317207)</td>\n",
       "    </tr>\n",
       "    <tr>\n",
       "      <th>53596</th>\n",
       "      <td>I030217815-08</td>\n",
       "      <td>111</td>\n",
       "      <td>Homicide</td>\n",
       "      <td>MURDER, NON-NEGLIGIENT MANSLAUGHTER</td>\n",
       "      <td>E18</td>\n",
       "      <td>520</td>\n",
       "      <td>NaN</td>\n",
       "      <td>2015-07-09 13:38:00</td>\n",
       "      <td>2015</td>\n",
       "      <td>7</td>\n",
       "      <td>Thursday</td>\n",
       "      <td>13</td>\n",
       "      <td>Part One</td>\n",
       "      <td>RIVER ST</td>\n",
       "      <td>42.255926</td>\n",
       "      <td>-71.123172</td>\n",
       "      <td>(42.25592648, -71.12317207)</td>\n",
       "    </tr>\n",
       "  </tbody>\n",
       "</table>\n",
       "<p>488400 rows × 17 columns</p>\n",
       "</div>"
      ],
      "text/plain": [
       "      INCIDENT_NUMBER  OFFENSE_CODE OFFENSE_CODE_GROUP  \\\n",
       "5          I192078556          2500                NaN   \n",
       "6          I192078556          2511                NaN   \n",
       "11         I192078529           800                NaN   \n",
       "23         I192078509           619                NaN   \n",
       "44         I192078478           724                NaN   \n",
       "...               ...           ...                ...   \n",
       "53592   I080542626-00          3125    Warrant Arrests   \n",
       "53593   I080542626-00          1848     Drug Violation   \n",
       "53594   I080542626-00          1848     Drug Violation   \n",
       "53595   I030217815-08          3125    Warrant Arrests   \n",
       "53596   I030217815-08           111           Homicide   \n",
       "\n",
       "                                  OFFENSE_DESCRIPTION DISTRICT REPORTING_AREA  \\\n",
       "5                        Migrated Report - Kidnapping       A1                  \n",
       "6                  KIDNAPPING - ENTICING OR ATTEMPTED       A1            123   \n",
       "11        Migrated Report - Assault/Assault & Battery       E5                  \n",
       "23                                 LARCENY ALL OTHERS       D4            167   \n",
       "44                                         AUTO THEFT       A1            111   \n",
       "...                                               ...      ...            ...   \n",
       "53592                                  WARRANT ARREST       A1            111   \n",
       "53593  DRUGS - POSS CLASS B - INTENT TO MFR DIST DISP       A1            111   \n",
       "53594  DRUGS - POSS CLASS B - INTENT TO MFR DIST DISP       A1            111   \n",
       "53595                                  WARRANT ARREST      E18            520   \n",
       "53596             MURDER, NON-NEGLIGIENT MANSLAUGHTER      E18            520   \n",
       "\n",
       "      SHOOTING    OCCURRED_ON_DATE  YEAR  MONTH DAY_OF_WEEK  HOUR    UCR_PART  \\\n",
       "5            0 2019-09-28 20:49:00  2019      9    Saturday    20         NaN   \n",
       "6            0 2019-09-28 20:49:00  2019      9    Saturday    20         NaN   \n",
       "11           0 2019-09-27 23:00:00  2019      9      Friday    23         NaN   \n",
       "23           0 2019-09-28 18:00:00  2019      9    Saturday    18         NaN   \n",
       "44           0 2019-09-27 23:00:00  2019      9      Friday    23         NaN   \n",
       "...        ...                 ...   ...    ...         ...   ...         ...   \n",
       "53592      NaN 2015-08-12 12:00:00  2015      8   Wednesday    12  Part Three   \n",
       "53593      NaN 2015-08-12 12:00:00  2015      8   Wednesday    12    Part Two   \n",
       "53594      NaN 2015-08-12 12:00:00  2015      8   Wednesday    12    Part Two   \n",
       "53595      NaN 2015-07-09 13:38:00  2015      7    Thursday    13  Part Three   \n",
       "53596      NaN 2015-07-09 13:38:00  2015      7    Thursday    13    Part One   \n",
       "\n",
       "              STREET        Lat       Long  \\\n",
       "5      WASHINGTON ST  42.349973 -71.063488   \n",
       "6      WASHINGTON ST  42.349973 -71.063488   \n",
       "11       EDGEMERE RD  42.258676 -71.151165   \n",
       "23        WAREHAM ST  42.339314 -71.067489   \n",
       "44        TREMONT ST  42.354284 -71.063804   \n",
       "...              ...        ...        ...   \n",
       "53592    BOYLSTON ST  42.352312 -71.063705   \n",
       "53593    BOYLSTON ST  42.352312 -71.063705   \n",
       "53594    BOYLSTON ST  42.352312 -71.063705   \n",
       "53595       RIVER ST  42.255926 -71.123172   \n",
       "53596       RIVER ST  42.255926 -71.123172   \n",
       "\n",
       "                                    Location  \n",
       "5      (42.3499725621905, -71.0634881686036)  \n",
       "6      (42.3499725621905, -71.0634881686036)  \n",
       "11     (42.2586763744759, -71.1511647925742)  \n",
       "23     (42.3393144890309, -71.0674892597477)  \n",
       "44     (42.3542837724149, -71.0638040374747)  \n",
       "...                                      ...  \n",
       "53592            (42.35231190, -71.06370510)  \n",
       "53593            (42.35231190, -71.06370510)  \n",
       "53594            (42.35231190, -71.06370510)  \n",
       "53595            (42.25592648, -71.12317207)  \n",
       "53596            (42.25592648, -71.12317207)  \n",
       "\n",
       "[488400 rows x 17 columns]"
      ]
     },
     "execution_count": 3,
     "metadata": {},
     "output_type": "execute_result"
    }
   ],
   "source": [
    "# Imports of necessary libraries/modules needed\n",
    "import pandas as pd\n",
    "\n",
    "# Extract the .csv files from the ./Data folder. These csv files contain the crime data\n",
    "# that needs to be sorted and organized.\n",
    "csvPaths = []\n",
    "for file in os.listdir('./Data/'):\n",
    "    if '.csv' in file:\n",
    "        csvPaths.append(os.path.join('./Data',file))\n",
    "    \n",
    "# Using pandas, load in each csv file and add it to the data DataFrame object.\n",
    "frames = []\n",
    "for file in csvPaths:\n",
    "    dtypes = {'INCIDENT_NUMBER': str, 'OFFENSE_CODE':int, 'OFFENSE_CODE_GROUP':str, 'OFFENSE_DESCRIPTION':str, \n",
    "             'DISTRICT': str, 'REPORTING_AREA': str, 'SHOOTING': str, 'OCCURRED_ON_DATE': str, 'YEAR': int, \n",
    "             'MONTH': int, 'DAY_OF_WEEK': str, 'HOUR': int, 'UCR_PART': str, 'STREET': str, 'Lat': float, \n",
    "             'Long': float, 'Location': str}\n",
    "    temp = pd.read_csv(file, dtype=dtypes, parse_dates = ['OCCURRED_ON_DATE'])\n",
    "    frames.append(temp)\n",
    "\n",
    "# Concatenate each frame into one DataFrame object called data\n",
    "data = pd.concat(frames)\n",
    "\n",
    "# Organize the data DataFrame by removing incidents do not have proper Location tag. This would be (0,0)\n",
    "data = data.loc[data['Location'] != '(0, 0)']\n",
    "data"
   ]
  },
  {
   "cell_type": "markdown",
   "id": "298f90c3",
   "metadata": {},
   "source": [
    "# Exploratory Data Analysis"
   ]
  },
  {
   "cell_type": "markdown",
   "id": "42bba139",
   "metadata": {},
   "source": [
    "The next step of the data science pipeline is exploratory data analysis. This section of the notebook is where I begin to explore the data DataFrame object made in the previous step. I specifically set out in the following code to explore the patterns of the data and to answer the questions posed at the beginning of the notebook:\n",
    "\n",
    "1.  Does the crime rate increase during the college semesters (Fall and Spring semesters)?\n",
    "2.  What are the most popular crimes during the college semesters in the most populated college neighborhoods?\n",
    "3.  How does the crime rate differ between the work week and the weekend during the college semester?\n",
    "4.  During college vacation periods, does Boston's top crimes change in each district?\n",
    "5.  How do different districts crime frequency compare?\n",
    "\n",
    "Below, I wrote the following code to answer the questions above. The process for answering each of the questions is as follows: \n",
    "\n",
    "**For Question 1)** I first begin by defining the average Fall and Spring semesters of Boston area universities. From my [research](https://www.campusexplorer.com/college-advice-tips/D3ABFFE6/The-College-Academic-Calendar/#:~:text=Spring%20semester%20runs%20from%20January,from%20January%2016%2DMay%2025.), I found that on average this period is from mid-August to the beginning of December for Fall semesters and January through late April to early May for Spring semesters. I elected to use [Northeastern University's dates](https://registrar.northeastern.edu/wp-content/uploads/sites/9/2021-2022-UG-Expanded-Calendar-List.pdf?) as parameters for defining Fall and Spring semester in the code since this school is located in the heart of Boston. This means fall semester start, *monthF*, is September and fall semester end, *monthFEnd*, is December. For spring semester start, *monthS*, January is set and for *monthSEnd* it is set to April since the finals end near the end of April to the beginning of May. From here, I create two dataframes, *dfSemester* and *dfVacation* to represent the crimes that occurred during each of the time periods. Then, I plot the crimes per month rate for each dataframe and compare them. This was done since there are twice as many months during the school semesters so the total number of crimes will not be helpful insight. A bar graph is used to show this difference."
   ]
  },
  {
   "cell_type": "code",
   "execution_count": 35,
   "id": "ed1d152d",
   "metadata": {},
   "outputs": [
    {
     "data": {
      "text/plain": [
       "Text(0, 0.5, 'Rate of Crimes Per Month')"
      ]
     },
     "execution_count": 35,
     "metadata": {},
     "output_type": "execute_result"
    },
    {
     "data": {
      "image/png": "[encoded data removed]",
      "text/plain": [
       "<Figure size 432x288 with 1 Axes>"
      ]
     },
     "metadata": {
      "needs_background": "light"
     },
     "output_type": "display_data"
    }
   ],
   "source": [
    "# Imports needed for visualization\n",
    "import matplotlib.pyplot as plt\n",
    "%matplotlib inline\n",
    "\n",
    "# Question 1 Code\n",
    "monthF = 9 \n",
    "monthFEnd = 12 \n",
    "monthS = 1\n",
    "monthSEnd = 4\n",
    "# Make 2 dataframes, one for crimes during semesters and the other for crimes outside semesters\n",
    "dfSemester = data[((data['MONTH']>=monthF) & (data['MONTH']<=monthFEnd)) | ((data['MONTH']>=monthS) & (data['MONTH']<=monthSEnd))]\n",
    "dfVacation = data[(data['MONTH']>monthSEnd) & (data['MONTH']<monthF)]\n",
    "semesterCrimeRate = len(dfSemester)/9\n",
    "vacationCrimeRate = len(dfVacation)/4\n",
    "plt.bar(['Semester','Vacation'],[semesterCrimeRate,vacationCrimeRate])\n",
    "plt.title('Crime Rate Per Month')\n",
    "plt.xlabel('Time Period')\n",
    "plt.ylabel('Rate of Crimes Per Month')"
   ]
  },
  {
   "cell_type": "markdown",
   "id": "5460a402",
   "metadata": {},
   "source": [
    "From the code block and visualization produced above, I was able to conclude for question 1 that there is an increase in crime rate when during the vacation period than when there are students in the city full time. "
   ]
  },
  {
   "cell_type": "markdown",
   "id": "4538acc0",
   "metadata": {},
   "source": [
    "**For Question 2)** In order to solve this question, I started by identifying the neighborhoods where there are a lot of universities. A map of the Boston Police Department’s districts can be found [here](http://20yrhomicide.blackstonian.org/by-police-district/). With this map, I then looked up all the universities that fall into each of these districts. My findings are below, [using this list for colleges in Boston](https://en.wikipedia.org/wiki/List_of_colleges_and_universities_in_metropolitan_Boston):\n",
    "\n",
    "District A-1 (Beacon Hill, Chinatown, Downtown, North End): 5\n",
    "\n",
    "District A-7 (East Boston): 0\n",
    "\n",
    "District A-15 (Charlestown): 4\n",
    "\n",
    "District B-2 (Mission Hill, Roxbury): 1\n",
    "\n",
    "District B-3 (Mattapan, North Dorchester): 0\n",
    "\n",
    "District C-6 (South Boston): 1\n",
    "\n",
    "District C-11 (Dorchester): 0\n",
    "\n",
    "District D-4 (Back Bay, Fenway, South End): 14\n",
    "\n",
    "District D-14 (Allston, Brighton): 2\n",
    "\n",
    "District E-5 (Roslindale, West Roxbury): 0\n",
    "\n",
    "District E-13 (Jamaica Plain): 1\n",
    "\n",
    "District E-18 (Hyde Park): 0\n",
    "\n",
    "From above, I concluded that districts D-4, A-1, A-15, D-14, B-2, C-6, and E-13 are relevant for this question. Using Pandas value_counts function, I then found the most frequently committed offense in each of the regions with students in them. Then, I matched the offense code with the offense description in the table. This will be the x-axis labels for the plots. From this data, I was interested in finding the frequency of these crimes and how many districts shared the same top crime. To do this, I extracted the corresponding data from the value_counts returned sequence object and then created a subplot of the data below. The left plot shows the number of districts that share the same top crime and the right subplot shows the frequency of each of these top crimes."
   ]
  },
  {
   "cell_type": "code",
   "execution_count": 116,
   "id": "e144a76a",
   "metadata": {},
   "outputs": [
    {
     "data": {
      "text/plain": [
       "Text(0.5, 1.0, 'Offenses in College Districts')"
      ]
     },
     "execution_count": 116,
     "metadata": {},
     "output_type": "execute_result"
    },
    {
     "data": {
      "image/png": "[encoded data removed]",
      "text/plain": [
       "<Figure size 432x288 with 2 Axes>"
      ]
     },
     "metadata": {
      "needs_background": "light"
     },
     "output_type": "display_data"
    }
   ],
   "source": [
    "# Question 2 Code\n",
    "# Importing required modules for this section\n",
    "from collections import defaultdict\n",
    "\n",
    "crimesD4 = data[data['DISTRICT']=='D4']\n",
    "crimesA1 = data[data['DISTRICT']=='A1']\n",
    "crimesA15 = data[data['DISTRICT']=='A15']\n",
    "crimesD14 = data[data['DISTRICT']=='D14']\n",
    "crimesB2 = data[data['DISTRICT']=='B2']\n",
    "crimesC6 = data[data['DISTRICT']=='C6']\n",
    "crimesE13 = data[data['DISTRICT']=='E13']\n",
    "\n",
    "# Use OFFENSE_CODE and count frequency of each code. Find the highest.\n",
    "districts = [crimesD4,crimesA1,crimesA15,crimesD14,crimesB2,crimesC6,crimesE13]\n",
    "crimeDistrictCount = defaultdict(int)\n",
    "crimeFreq = defaultdict(int)\n",
    "for district in districts:\n",
    "    counts = district['OFFENSE_CODE'].value_counts()\n",
    "    highest = counts.iloc[:1].index[0]\n",
    "    freqHighest = counts.iloc[0]\n",
    "    crimeDesc = data[data['OFFENSE_CODE']==highest]['OFFENSE_DESCRIPTION'].iloc[0]\n",
    "    crimeDistrictCount[crimeDesc] += 1\n",
    "    crimeFreq[crimeDesc] += freqHighest\n",
    "\n",
    "# Plot top crimes in districts and the frequency of these crimes in the dataset.\n",
    "fig, (ax1, ax2) = plt.subplots(1, 2)\n",
    "fig.tight_layout(pad=4.0)\n",
    "ax1.bar(crimeDistrictCount.keys(), crimeDistrictCount.values())\n",
    "ax1.tick_params(labelrotation=90)\n",
    "ax1.set_xlabel('Crime Description')\n",
    "ax1.set_ylabel('Number of Districts')\n",
    "ax1.set_title('Top Crime in College Districts')\n",
    "ax2.bar(crimeFreq.keys(), crimeFreq.values())\n",
    "ax2.tick_params(labelrotation=90)\n",
    "ax2.set_xlabel('Crime Description')\n",
    "ax2.set_ylabel('Number of Offenses')\n",
    "ax2.set_title('Offenses in College Districts')"
   ]
  },
  {
   "cell_type": "markdown",
   "id": "4c38f75c",
   "metadata": {},
   "source": [
    "From the code block and visualization produced above, I was able to conclude for question 2 that the top crime committed in the college populated districts of Boston are cases where a person is being investigated. There were 5 of the 7 districts that had this as the top crime entry in the dataset. Further, I was able to conclude that the amount of these cases is much larger than the other crimes. This is most likely because there are multiple districts that contributed to this top crime while the larceny shoplifting and towed motor vehicle offenses only occurred in the other two districts."
   ]
  },
  {
   "cell_type": "markdown",
   "id": "d90a6d66",
   "metadata": {},
   "source": [
    "**For Question 3)** I began by dividing the data into time periods where students are in university studying. This is the same process that was done for question 1. From this new DataFrame, I then extracted the weekday and weekends into 2 DataFrame objects for analysis. I then computed the crime rate per day for the 2 DataFrames to see if there were more crimes committed during the week or during the weekend."
   ]
  },
  {
   "cell_type": "code",
   "execution_count": 133,
   "id": "a7e53959",
   "metadata": {},
   "outputs": [
    {
     "data": {
      "text/plain": [
       "Text(0, 0.5, 'Crime Rate Per Day')"
      ]
     },
     "execution_count": 133,
     "metadata": {},
     "output_type": "execute_result"
    },
    {
     "data": {
      "image/png": "[encoded data removed]",
      "text/plain": [
       "<Figure size 432x288 with 1 Axes>"
      ]
     },
     "metadata": {
      "needs_background": "light"
     },
     "output_type": "display_data"
    }
   ],
   "source": [
    "# Question 3 Code\n",
    "# Defining the months that the universities are in session in Boston. Using same assumptions as question 1\n",
    "monthF = 9 \n",
    "monthFEnd = 12 \n",
    "monthS = 1\n",
    "monthSEnd = 4\n",
    "# Make a semester DataFrame object\n",
    "dfSemester = data[((data['MONTH']>=monthF) & (data['MONTH']<=monthFEnd)) | ((data['MONTH']>=monthS) & (data['MONTH']<=monthSEnd))]\n",
    "# Set days of weekend\n",
    "weekend = ['Saturday', 'Sunday']\n",
    "# create week and weekend DataFrames\n",
    "dfWeekend = dfSemester[dfSemester['DAY_OF_WEEK'].isin(weekend)]\n",
    "dfWeek = dfSemester[~(dfSemester['DAY_OF_WEEK'].isin(weekend))]\n",
    "# Compute the crime rate per day for week and weekend\n",
    "cRWeek = len(dfWeek)/5\n",
    "cRWeekend = len(dfWeekend)/2\n",
    "# Plot the crime rates \n",
    "plt.bar(['Week', 'Weekend'],[cRWeek,cRWeekend])\n",
    "plt.title('Crime Rate Per Day During College Semester')\n",
    "plt.xlabel('Time Period')\n",
    "plt.ylabel('Crime Rate Per Day')"
   ]
  },
  {
   "cell_type": "markdown",
   "id": "fee19a71",
   "metadata": {},
   "source": [
    "From the code block and visualization produced above, I was able to conclude for question 3 that there are more crimes committed per day during the week(M-F) than during the weekends during the college semester. The different wasn't as large as I initially expected."
   ]
  },
  {
   "cell_type": "markdown",
   "id": "500ca7dd",
   "metadata": {},
   "source": [
    "**For Question 4)** I began by first dividing the initial *data* DataFrame into 2 DataFrames to represent the semester and vacation time periods similar to the steps taken in questions 1 and 3. From here, I found the top crimes for each district during the semester and vacation time periods. This was done in a similar way to that of question 2 using the value_counts functions. I then created 2 dictionaries to hold the results for each district, called *districtSemesterTop* and *districtVacationTop*. These hold a tuple in the values section which consists of the crime description and the frequency of that top crime. From here, I created a plot that contains two bars, the left which represents the semester and the right bar which is the vacation time period's top crime. The height of the bars is the number of crime occurrences that occurred in the dataset for that top crime during the selected time period. I also created unique colors for each unique crime description that existed. This allows for comparison to see if the top crime in a particular district changes during the different time periods."
   ]
  },
  {
   "cell_type": "code",
   "execution_count": 205,
   "id": "b36a4857",
   "metadata": {},
   "outputs": [
    {
     "data": {
      "text/plain": [
       "<matplotlib.legend.Legend at 0x7fa53321cb80>"
      ]
     },
     "execution_count": 205,
     "metadata": {},
     "output_type": "execute_result"
    },
    {
     "data": {
      "image/png": "[encoded data removed]",
      "text/plain": [
       "<Figure size 432x288 with 1 Axes>"
      ]
     },
     "metadata": {
      "needs_background": "light"
     },
     "output_type": "display_data"
    }
   ],
   "source": [
    "# Question 4 Code\n",
    "# Importing necessary packages\n",
    "import numpy as np\n",
    "from matplotlib.lines import Line2D\n",
    "\n",
    "# Defining months for the semester time period\n",
    "monthF = 9 \n",
    "monthFEnd = 12 \n",
    "monthS = 1\n",
    "monthSEnd = 4\n",
    "\n",
    "# Make 2 dataframes, one for crimes during semesters and the other for crimes outside semesters\n",
    "dfSemester = data[((data['MONTH']>=monthF) & (data['MONTH']<=monthFEnd)) | ((data['MONTH']>=monthS) & (data['MONTH']<=monthSEnd))]\n",
    "dfVacation = data[(data['MONTH']>monthSEnd) & (data['MONTH']<monthF)]\n",
    "\n",
    "# Create dataframes for each district during the semester and vacation\n",
    "# Get the districts in the dataset, removing the nan and External districts since they are not relevant\n",
    "districts = np.unique(list(dfSemester['DISTRICT']))[:-2]\n",
    "\n",
    "dfDistrictsSemester = {}\n",
    "dfDistrictsVacation = {}\n",
    "for district in districts:\n",
    "    dfDistrictsSemester[district] = dfSemester[dfSemester['DISTRICT']==district]\n",
    "    dfDistrictsVacation[district] = dfVacation[dfVacation['DISTRICT']==district]\n",
    "    \n",
    "# go through districts and find the top crime, frequency, and description for each\n",
    "districtSemesterTop = {}\n",
    "districtVacationTop = {}\n",
    "for district in districts:\n",
    "    currSemDf = dfDistrictsSemester[district]\n",
    "    currVacDf = dfDistrictsVacation[district]\n",
    "    # find frequencies Semester time period\n",
    "    countsSem = currSemDf['OFFENSE_CODE'].value_counts()\n",
    "    highestSem = countsSem.iloc[:1].index[0]\n",
    "    crimeDescSem = currSemDf[currSemDf['OFFENSE_CODE']==highestSem]['OFFENSE_DESCRIPTION'].iloc[0]\n",
    "    freqHighestSem = countsSem.iloc[0]\n",
    "    # find frequencies Vacation time period\n",
    "    countsVac = currVacDf['OFFENSE_CODE'].value_counts()\n",
    "    highestVac = countsVac.iloc[:1].index[0]\n",
    "    crimeDescVac = currVacDf[currVacDf['OFFENSE_CODE']==highestVac]['OFFENSE_DESCRIPTION'].iloc[0]\n",
    "    freqHighestVac = countsVac.iloc[0]\n",
    "    districtSemesterTop[district] = (crimeDescSem,freqHighestSem)\n",
    "    districtVacationTop[district] = (crimeDescVac,freqHighestVac)\n",
    "\n",
    "\n",
    "# get list of descriptions\n",
    "semDesc = [(list(x)[:])[0] for x in districtSemesterTop.values()]\n",
    "vacDesc = [(list(x)[:])[0] for x in districtVacationTop.values()]\n",
    "# get list of frequency values\n",
    "semFreq = [(list(x)[:])[1] for x in districtSemesterTop.values()]\n",
    "vacFreq = [(list(x)[:])[1] for x in districtVacationTop.values()]\n",
    "\n",
    "# Plot the frequency values and then see if bar values can be set based off value of description. \n",
    "X_axis = np.arange(len(districtSemesterTop.keys()))\n",
    "# Creates colors for each unique crime description that exists between semester and vacation descriptions\n",
    "colors = []\n",
    "allDesc = semDesc + vacDesc\n",
    "uniqueDescs = np.unique(allDesc)\n",
    "colorDesc = {}\n",
    "for i in uniqueDescs:\n",
    "    r = np.random.uniform(0,1)\n",
    "    g = np.random.uniform(0,1)\n",
    "    b = np.random.uniform(0,1)\n",
    "    colorDesc[i] = (r,g,b)\n",
    "\n",
    "# Gets the correct color for each bar \n",
    "colorBar1 = [colorDesc[x] for x in semDesc]\n",
    "colorBar2 = [colorDesc[x] for x in vacDesc]\n",
    "# Plot and label the plot\n",
    "plt.bar(X_axis-0.2,semFreq, 0.4, color=colorBar1)\n",
    "plt.bar(X_axis+0.2,vacFreq, 0.4, color=colorBar2)\n",
    "plt.xticks(X_axis, districtSemesterTop.keys())\n",
    "plt.title('Comparison of Semester and Vacation Period Top Crimes')\n",
    "plt.xlabel('District')\n",
    "plt.ylabel('Number of Offenses')\n",
    "\n",
    "legend_elements = [Line2D([0], [0], color=c, lw=4) for c in colorDesc.values()]\n",
    "plt.legend(legend_elements,colorDesc.keys(), loc='upper right', bbox_to_anchor=(1.8, 1))"
   ]
  },
  {
   "cell_type": "markdown",
   "id": "c554bae7",
   "metadata": {},
   "source": [
    "From the code block and visualization produced above, I was able to conclude for question 4 most districts did not experience changes in the top crime committed during the semester and vacation time periods. The most relevant districts to analyze are A1, A15, B2, C6, D4, D14, and E13 as these all contain universities within their borders. With the visualization, it is easy to see that only districts B2, C6, and D14 have different top crimes during the vacation time period of university students in the city. I also noticed that district D4, the district with the most colleges in Boston, as seen from question 2, experienced larceny shoplifting crimes the most while every other district did not experience this category as their top crimes. "
   ]
  },
  {
   "cell_type": "markdown",
   "id": "8fc34b21",
   "metadata": {},
   "source": [
    "**For Question 5)**"
   ]
  },
  {
   "cell_type": "code",
   "execution_count": null,
   "id": "eac90e98",
   "metadata": {},
   "outputs": [],
   "source": [
    "# Question 5 Code"
   ]
  },
  {
   "cell_type": "markdown",
   "id": "43f132ae",
   "metadata": {},
   "source": [
    "From the code block and visualization produced above, I was able to conclude for question 5 that"
   ]
  },
  {
   "cell_type": "markdown",
   "id": "24dcdce9",
   "metadata": {},
   "source": [
    "# Modeling Future Crime"
   ]
  },
  {
   "cell_type": "markdown",
   "id": "087663ca",
   "metadata": {},
   "source": [
    "Random Forest or linear regression model. If random forest, can day of the week or month be used to predict the type of crime that is most likely to occur in a specific district. "
   ]
  },
  {
   "cell_type": "code",
   "execution_count": null,
   "id": "e003f9af",
   "metadata": {},
   "outputs": [],
   "source": []
  },
  {
   "cell_type": "markdown",
   "id": "2c1e2e95",
   "metadata": {},
   "source": [
    "# Map Visualizations"
   ]
  },
  {
   "cell_type": "markdown",
   "id": "79ac7f67",
   "metadata": {},
   "source": []
  },
  {
   "cell_type": "code",
   "execution_count": null,
   "id": "4e8ffc3e",
   "metadata": {},
   "outputs": [],
   "source": []
  },
  {
   "cell_type": "markdown",
   "id": "60cf7094",
   "metadata": {},
   "source": [
    "# Inslight, Policy Decisions, and Future Work"
   ]
  },
  {
   "cell_type": "markdown",
   "id": "46b4affb",
   "metadata": {},
   "source": []
  },
  {
   "cell_type": "markdown",
   "id": "32439518",
   "metadata": {},
   "source": [
    "# References\n",
    "Gramlich, John. “What the Data Says (and Doesn't Say) about Crime in the United States.” Pew Research Center, The Pew \n",
    "Charitable Trusts, 23 Nov. 2020, https://www.pewresearch.org/fact-tank/2020/11/20/facts-about-crime-in-the-u-s/. \n",
    "\n"
   ]
  }
 ],
 "metadata": {
  "kernelspec": {
   "display_name": "Python 3",
   "language": "python",
   "name": "python3"
  },
  "language_info": {
   "codemirror_mode": {
    "name": "ipython",
    "version": 3
   },
   "file_extension": ".py",
   "mimetype": "text/x-python",
   "name": "python",
   "nbconvert_exporter": "python",
   "pygments_lexer": "ipython3",
   "version": "3.8.8"
  }
 },
 "nbformat": 4,
 "nbformat_minor": 5
}
