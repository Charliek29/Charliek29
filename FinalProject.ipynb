{
 "cells": [
  {
   "cell_type": "markdown",
   "id": "fb75b769",
   "metadata": {},
   "source": [
    "# Boston Crime Analysis & Map Visualizations\n",
    "## Developed by Charles Karafotias\n",
    "### CMSC320-0101: Introduction To Data Science Final Project"
   ]
  },
  {
   "cell_type": "markdown",
   "id": "1d188df0",
   "metadata": {},
   "source": [
    "# Introduction\n",
    "Crime has always been an issue in the United States of America. Whether it be gun violence, trespassing offenses, or more serious felony offenses, crime rates are a major consideration in choosing where to live and when citizens deem it safe to exit the safety of their homes. In the United States overall, crime rates have been on the decline according to Pew Research Center (read more [here](https://www.pewresearch.org/fact-tank/2020/11/20/facts-about-crime-in-the-u-s/)) yet \"Americans tend to believe crime is up\" even with the extensive research that has been done into this topic (Gramlich). With the changing times since the publication of the previously mentioned article and the ongoing effects of the COVID-19 pandemic, I am interested in analyzing the affects of crime rates that currently exist in a major city of the United States. \n",
    "\n",
    "Of the many crime datasets that are available to the public, I am particularly interested in analyzing the city of Boston, Massachusetts crime rates and finding out if there are patterns in the types of crimes that exist in different neighborhoods of the city. Provided by the city of Boston, the **Crime Incident Reports (August 2015 - To Date) (Source: New System)** dataset located [here](https://data.boston.gov/dataset/crime-incident-reports-august-2015-to-date-source-new-system) provides a plethora of data for analysis. I specifically chose to analyze the crime in the city of Boston as there is 44 higher level institutions in the metropolitan area alone and many others around the city (more information [here](https://en.wikipedia.org/wiki/List_of_colleges_and_universities_in_metropolitan_Boston)). With all of the student population coming and going during the college semesters, I pose the following questions that this project will aim to answer:\n",
    "1.  Does the crime rate increase during the college semesters (Fall and Spring semesters)?\n",
    "2.  What are the most popular crimes during the college semesters in the most populated college neighborhoods?\n",
    "3.  How does the crime rate differ between the work week and the weekend during the college semester?\n",
    "4.  During college breaks, does the city of Boston experience different frequencies of common crimes?\n",
    "5.  How do different neighborhoods crime frequency compare?\n",
    "\n",
    "In order to answer the above questions, I walk through the data science pipeline. This consists of data collection, data processing, exploratory analysis and data visualizations, analysis & hypothesis testing, and decision making based off the results. Each section is walked through below.\n",
    "\n",
    "## Requirements For Code\n",
    "The language selected for this project is Python. With Python, the above questions can be answered using the pipeline provided. I elected to use Python as there are many additional libraries (listed below) that provide valuable tools for data science. I have provided a list of the libraries that have been used throughout the project and links to the accompanying API for further reading. \n",
    "1. [Numpy](https://numpy.org/doc/stable/reference/)\n",
    "2. [Pandas](https://pandas.pydata.org/docs/reference/index.html)\n",
    "3. ..."
   ]
  },
  {
   "cell_type": "markdown",
   "id": "6822d92e",
   "metadata": {},
   "source": [
    "# Data Collection"
   ]
  },
  {
   "cell_type": "markdown",
   "id": "fbd0530c",
   "metadata": {},
   "source": [
    "# Data Parsing & Organization "
   ]
  },
  {
   "cell_type": "markdown",
   "id": "1fa4b6de",
   "metadata": {},
   "source": [
    "# Exploratory Data Analysis"
   ]
  },
  {
   "cell_type": "markdown",
   "id": "f2a571bd",
   "metadata": {},
   "source": [
    "# Modeling Future Crime"
   ]
  },
  {
   "cell_type": "markdown",
   "id": "ef5d770c",
   "metadata": {},
   "source": [
    "# Map Visualizations"
   ]
  },
  {
   "cell_type": "code",
   "execution_count": null,
   "id": "73c2a27d",
   "metadata": {},
   "outputs": [],
   "source": []
  },
  {
   "cell_type": "markdown",
   "id": "7614821a",
   "metadata": {},
   "source": [
    "# References\n",
    "Gramlich, John. “What the Data Says (and Doesn't Say) about Crime in the United States.” Pew Research Center, The Pew \n",
    "Charitable Trusts, 23 Nov. 2020, https://www.pewresearch.org/fact-tank/2020/11/20/facts-about-crime-in-the-u-s/. \n",
    "\n"
   ]
  }
 ],
 "metadata": {
  "kernelspec": {
   "display_name": "Python 3",
   "language": "python",
   "name": "python3"
  },
  "language_info": {
   "codemirror_mode": {
    "name": "ipython",
    "version": 3
   },
   "file_extension": ".py",
   "mimetype": "text/x-python",
   "name": "python",
   "nbconvert_exporter": "python",
   "pygments_lexer": "ipython3",
   "version": "3.8.8"
  }
 },
 "nbformat": 4,
 "nbformat_minor": 5
}
